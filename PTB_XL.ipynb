{
  "cells": [
    {
      "source": [
        "# IMPORTANT: RUN THIS CELL IN ORDER TO IMPORT YOUR KAGGLE DATA SOURCES,\n",
        "# THEN FEEL FREE TO DELETE THIS CELL.\n",
        "# NOTE: THIS NOTEBOOK ENVIRONMENT DIFFERS FROM KAGGLE'S PYTHON\n",
        "# ENVIRONMENT SO THERE MAY BE MISSING LIBRARIES USED BY YOUR\n",
        "# NOTEBOOK.\n",
        "import kagglehub\n",
        "khyeh0719_ptb_xl_dataset_path = kagglehub.dataset_download('khyeh0719/ptb-xl-dataset')\n",
        "\n",
        "print('Data source import complete.')\n"
      ],
      "metadata": {
        "id": "RkzknEhdTUks"
      },
      "cell_type": "code",
      "outputs": [],
      "execution_count": null
    },
    {
      "metadata": {
        "id": "AQLX_6cdTUkt"
      },
      "cell_type": "markdown",
      "source": [
        "# EDA"
      ]
    },
    {
      "metadata": {
        "trusted": true,
        "_kg_hide-input": true,
        "id": "i9nECGJYTUkt"
      },
      "cell_type": "code",
      "source": [
        "import pandas as pd\n",
        "import numpy as np\n",
        "import wfdb\n",
        "import ast\n",
        "from tqdm import tqdm\n",
        "import warnings; warnings.filterwarnings('ignore')\n",
        "from IPython.display import display\n",
        "\n",
        "import matplotlib.pyplot as plt\n",
        "import seaborn as sns\n",
        "%matplotlib inline"
      ],
      "execution_count": null,
      "outputs": []
    },
    {
      "metadata": {
        "id": "cQvsKgXRTUkt"
      },
      "cell_type": "markdown",
      "source": [
        "## Load Raw Data"
      ]
    },
    {
      "metadata": {
        "trusted": true,
        "_kg_hide-input": true,
        "id": "qTXn2FKETUkt"
      },
      "cell_type": "code",
      "source": [
        "def load_raw_data(df, sampling_rate, path):\n",
        "    if sampling_rate == 100:\n",
        "        data = [wfdb.rdsamp(path+f) for f in tqdm(df.filename_lr)]\n",
        "    else:\n",
        "        data = [wfdb.rdsamp(path+f) for f in tqdm(df.filename_hr)]\n",
        "    data = np.array([signal for signal, meta in data])\n",
        "    return data"
      ],
      "execution_count": null,
      "outputs": []
    },
    {
      "metadata": {
        "trusted": true,
        "id": "Vg0aBD91TUkt"
      },
      "cell_type": "code",
      "source": [
        "path = '../input/ptb-xl-dataset/ptb-xl-a-large-publicly-available-electrocardiography-dataset-1.0.1/'\n",
        "sampling_rate=100\n",
        "\n",
        "# load and convert annotation data\n",
        "Y = pd.read_csv(path+'ptbxl_database.csv', index_col='ecg_id')\n",
        "Y.scp_codes = Y.scp_codes.apply(lambda x: ast.literal_eval(x))\n",
        "\n",
        "# Load raw signal data\n",
        "X = load_raw_data(Y, sampling_rate, path)\n",
        "\n",
        "print('data shpae:', X.shape)\n",
        "Y[['scp_codes']]\n",
        "Y"
      ],
      "execution_count": null,
      "outputs": []
    },
    {
      "metadata": {
        "id": "GM8hpNOtTUku"
      },
      "cell_type": "markdown",
      "source": [
        "## Load Data for Heart Beat Diagnostic"
      ]
    },
    {
      "metadata": {
        "trusted": true,
        "id": "D80e5-44TUku"
      },
      "cell_type": "code",
      "source": [
        "# Load scp_statements.csv for diagnostic aggregation\n",
        "agg_df = pd.read_csv(path+'scp_statements.csv', index_col=0)\n",
        "agg_df = agg_df[agg_df.diagnostic == 1]\n",
        "print(agg_df.shape)\n",
        "agg_df.head()"
      ],
      "execution_count": null,
      "outputs": []
    },
    {
      "metadata": {
        "trusted": true,
        "id": "E2O-VINsTUku"
      },
      "cell_type": "code",
      "source": [
        "def aggregate_supclass_diagnostic(y_dic):\n",
        "    tmp = []\n",
        "    for key in y_dic.keys():\n",
        "        if key in agg_df.index:\n",
        "            tmp.append(agg_df.loc[key].diagnostic_class)\n",
        "    return list(set(tmp))\n",
        "\n",
        "# Apply diagnostic superclass\n",
        "Y['diagnostic_superclass'] = Y.scp_codes.apply(aggregate_supclass_diagnostic)\n",
        "Y['diagnostic_superclass_len'] = Y['diagnostic_superclass'].apply(len)\n",
        "Y.loc[Y.diagnostic_superclass_len > 1, 'diagnostic_superclass']"
      ],
      "execution_count": null,
      "outputs": []
    },
    {
      "metadata": {
        "id": "1B4-xJkvTUku"
      },
      "cell_type": "markdown",
      "source": [
        "### Number of Superclass per ECG record"
      ]
    },
    {
      "metadata": {
        "trusted": true,
        "_kg_hide-input": true,
        "id": "_nt31RrWTUku"
      },
      "cell_type": "code",
      "source": [
        "vc = Y['diagnostic_superclass_len'].value_counts()\n",
        "\n",
        "sns.set_style(\"whitegrid\")\n",
        "bar,ax = plt.subplots(figsize=(10,6))\n",
        "ax = sns.barplot(x=vc.values/vc.values.sum()*100., y=vc.index, ci=None, palette=\"muted\",orient='h' )\n",
        "ax.set_title(\"Diagnostic Superclass Len Distribution\", fontsize=20)\n",
        "ax.set_xlabel (\"percentage over all samples\")\n",
        "ax.set_ylabel (\"diagnostic_superclass_len\")\n",
        "for rect in ax.patches:\n",
        "    ax.text (rect.get_width(), rect.get_y() + rect.get_height() / 2,\"%.1f%%\"% rect.get_width(), weight='bold' )"
      ],
      "execution_count": null,
      "outputs": []
    },
    {
      "metadata": {
        "id": "oCEpNpPrTUku"
      },
      "cell_type": "markdown",
      "source": [
        "> There could be up to 4 super class for the same ecg record!"
      ]
    },
    {
      "metadata": {
        "id": "o_7RlWQPTUku"
      },
      "cell_type": "markdown",
      "source": [
        "#### Meaning of Superclassses\n",
        "* NORM: Normal ECG\n",
        "* MI:   Myocardial Infarction, a myocardial infarction (MI), commonly known as a heart attack, occurs when blood flow decreases or stops to a part of the heart, causing damage to the heart muscle [Reference](https://en.wikipedia.org/wiki/Myocardial_infarction)\n",
        "* STTC: ST/T Change, ST and T wave changes may represent cardiac pathology or be a normal variant. Interpretation of the findings, therefore, depends on the clinical context and presence of similar findings on prior electrocardiograms.[Reference](https://www.uptodate.com/contents/ecg-tutorial-st-and-t-wave-changes)\n",
        "* CD:   Conduction Disturbance. Your heart rhythm is the way your heart beats. Conduction is how electrical impulses travel through your heart, which causes it to beat. Some conduction disorders can cause arrhythmias, or irregular heartbeats. [Reference](https://www.heart.org/en/health-topics/arrhythmia/about-arrhythmia/conduction-disorders)\n",
        "* HYP:  Hypertrophy, Hypertrophic cardiomyopathy (HCM) is a disease in which the heart muscle becomes abnormally thick (hypertrophied). The thickened heart muscle can make it harder for the heart to pump blood. [Reference](https://www.mayoclinic.org/diseases-conditions/hypertrophic-cardiomyopathy/symptoms-causes/syc-20350198)"
      ]
    },
    {
      "metadata": {
        "id": "6IjRIK7eTUku"
      },
      "cell_type": "markdown",
      "source": [
        "### Number of Subclass per ECG record"
      ]
    },
    {
      "metadata": {
        "_kg_hide-input": true,
        "trusted": true,
        "id": "jimS7Qg_TUku"
      },
      "cell_type": "code",
      "source": [
        "def aggregate_subclass_diagnostic(y_dic):\n",
        "    tmp = []\n",
        "    for key in y_dic.keys():\n",
        "        if key in agg_df.index:\n",
        "            tmp.append(agg_df.loc[key].diagnostic_subclass)\n",
        "    ret = list(set(tmp))\n",
        "    ret = ['sub_'+r for r in ret] # to distinguish between subclass and superclass columns\n",
        "    return ret\n",
        "\n",
        "# Apply diagnostic subclass\n",
        "Y['diagnostic_subclass'] = Y.scp_codes.apply(aggregate_subclass_diagnostic)\n",
        "Y['diagnostic_subclass_len'] = Y['diagnostic_subclass'].apply(len)\n",
        "Y.loc[Y.diagnostic_subclass_len > 1, 'diagnostic_subclass']"
      ],
      "execution_count": null,
      "outputs": []
    },
    {
      "metadata": {
        "_kg_hide-input": true,
        "trusted": true,
        "id": "-BrhcsWHTUku"
      },
      "cell_type": "code",
      "source": [
        "vc = Y['diagnostic_subclass_len'].value_counts()\n",
        "\n",
        "sns.set_style(\"whitegrid\")\n",
        "bar,ax = plt.subplots(figsize=(10,6))\n",
        "ax = sns.barplot(x=vc.values/vc.values.sum()*100., y=vc.index, ci=None, palette=\"muted\",orient='h' )\n",
        "ax.set_title(\"Diagnostic Subclass Length Distribution\", fontsize=20)\n",
        "ax.set_xlabel (\"percentage over all samples\")\n",
        "ax.set_ylabel (\"diagnostic_subclass_len\")\n",
        "for rect in ax.patches:\n",
        "    ax.text (rect.get_width(), rect.get_y() + rect.get_height() / 2,\"%.1f%%\"% rect.get_width(), weight='bold' )"
      ],
      "execution_count": null,
      "outputs": []
    },
    {
      "metadata": {
        "id": "f_sY3UE9TUku"
      },
      "cell_type": "markdown",
      "source": [
        "> There could be up to 6 sub class for the same ecg record!"
      ]
    },
    {
      "metadata": {
        "trusted": true,
        "id": "SbllEOxPTUku"
      },
      "cell_type": "code",
      "source": [
        "Y.columns.tolist()"
      ],
      "execution_count": null,
      "outputs": []
    },
    {
      "metadata": {
        "id": "34eepbKOTUkv"
      },
      "cell_type": "markdown",
      "source": [
        "## Reformat Data for EDA"
      ]
    },
    {
      "metadata": {
        "trusted": true,
        "id": "CNDq1cZaTUkv"
      },
      "cell_type": "code",
      "source": [
        "all_superclass = pd.Series(np.concatenate(Y['diagnostic_superclass'].values))\n",
        "all_subclass = pd.Series(np.concatenate(Y['diagnostic_subclass'].values))\n",
        "superclass_cols = all_superclass.unique()\n",
        "subclass_cols = all_subclass.unique()\n",
        "update_cols = np.concatenate([superclass_cols, subclass_cols]) # add meta data columns\n",
        "meta_cols = ['age', 'sex', 'height', 'weight', 'nurse', 'site', 'device',] # could add more columns as features"
      ],
      "execution_count": null,
      "outputs": []
    },
    {
      "metadata": {
        "trusted": true,
        "id": "jWeW8NxhTUkv"
      },
      "cell_type": "code",
      "source": [
        "class ClassUpdate():\n",
        "    def __init__(self, cols):\n",
        "        self.cols = cols\n",
        "\n",
        "    def __call__(self, row):\n",
        "        for sc in row['diagnostic_superclass']:\n",
        "            row[sc] = 1\n",
        "        for sc in row['diagnostic_subclass']:\n",
        "            row[sc] = 1\n",
        "\n",
        "        return row\n",
        "\n",
        "def get_data_by_folds(folds, x, y, update_cols, feature_cols):\n",
        "    assert len(folds)  > 0, '# of provided folds should longer than 1'\n",
        "    #print(y.strat_fold)\n",
        "    filt = np.isin(y.strat_fold.values, folds)\n",
        "    x_selected = x[filt]\n",
        "    y_selected = y[filt]\n",
        "\n",
        "    for sc in update_cols:\n",
        "        y_selected[sc] = 0\n",
        "\n",
        "    cls_updt = ClassUpdate(update_cols)\n",
        "\n",
        "    y_selected = y_selected.apply(cls_updt, axis=1)\n",
        "\n",
        "    return x_selected, y_selected[list(feature_cols)+list(update_cols)+['strat_fold']]"
      ],
      "execution_count": null,
      "outputs": []
    },
    {
      "metadata": {
        "trusted": true,
        "id": "8brJtZb2TUkv"
      },
      "cell_type": "code",
      "source": [
        "x_all, y_all = get_data_by_folds(np.arange(1, 11), X, Y, update_cols, meta_cols)"
      ],
      "execution_count": null,
      "outputs": []
    },
    {
      "metadata": {
        "trusted": true,
        "id": "69xb6M83TUkv"
      },
      "cell_type": "code",
      "source": [
        "y_all"
      ],
      "execution_count": null,
      "outputs": []
    },
    {
      "metadata": {
        "id": "Ynkd0rLqTUkv"
      },
      "cell_type": "markdown",
      "source": [
        "### Superclass Distribution"
      ]
    },
    {
      "metadata": {
        "_kg_hide-input": true,
        "trusted": true,
        "id": "fx-Vau1ETUkv"
      },
      "cell_type": "code",
      "source": [
        "vc = y_all[superclass_cols].sum(axis=0)\n",
        "\n",
        "sns.set_style(\"whitegrid\")\n",
        "bar,ax = plt.subplots(figsize=(10,6))\n",
        "ax = sns.barplot(x=vc.values/y_all.shape[0]*100., y=vc.index, ci=None, palette=\"muted\",orient='h' )\n",
        "ax.set_title(\"Diagnositic Superclass Distribution\", fontsize=20)\n",
        "ax.set_xlabel (\"percentage over all samples\")\n",
        "ax.set_ylabel (\"diagnositic superclass\")\n",
        "for rect in ax.patches:\n",
        "    ax.text (rect.get_width(), rect.get_y() + rect.get_height() / 2,\"%.1f%%\"% rect.get_width(), weight='bold' )"
      ],
      "execution_count": null,
      "outputs": []
    },
    {
      "metadata": {
        "id": "do_KOzgZTUkv"
      },
      "cell_type": "markdown",
      "source": [
        "### Subclass Distribution"
      ]
    },
    {
      "metadata": {
        "_kg_hide-input": true,
        "trusted": true,
        "id": "AzEu7jexTUkv"
      },
      "cell_type": "code",
      "source": [
        "vc = y_all[subclass_cols].sum(axis=0)\n",
        "\n",
        "sns.set_style(\"whitegrid\")\n",
        "bar,ax = plt.subplots(figsize=(10,6))\n",
        "ax = sns.barplot(x=vc.values/y_all.shape[0]*100., y=vc.index, ci=None, palette=\"muted\",orient='h' )\n",
        "ax.set_title(\"Diagnositic Subclass Distribution\", fontsize=20)\n",
        "ax.set_xlabel (\"percentage over all samples\")\n",
        "ax.set_ylabel (\"diagnositic subclass\")\n",
        "for rect in ax.patches:\n",
        "    ax.text (rect.get_width(), rect.get_y() + rect.get_height() / 2,\"%.1f%%\"% rect.get_width(), weight='bold' )"
      ],
      "execution_count": null,
      "outputs": []
    },
    {
      "metadata": {
        "id": "dBvQzMatTUkv"
      },
      "cell_type": "markdown",
      "source": [
        "### Subclass Distribution of each Superclass"
      ]
    },
    {
      "metadata": {
        "_kg_hide-input": true,
        "trusted": true,
        "id": "z4Ycon4OTUkv"
      },
      "cell_type": "code",
      "source": [
        "for superclass in superclass_cols:\n",
        "\n",
        "    vc = y_all.loc[y_all[superclass] == 1][subclass_cols].sum(axis=0)\n",
        "\n",
        "    sns.set_style(\"whitegrid\")\n",
        "    bar,ax = plt.subplots(figsize=(10,6))\n",
        "    ax = sns.barplot(x=vc.values/y_all.shape[0]*100., y=vc.index, ci=None, palette=\"muted\",orient='h' )\n",
        "    ax.set_title(\"{} Subclass Distribution\".format(superclass), fontsize=20)\n",
        "    ax.set_xlabel (\"percentage over all samples\")\n",
        "    ax.set_ylabel (\"diagnositic subclass\")\n",
        "    for rect in ax.patches:\n",
        "        ax.text (rect.get_width(), rect.get_y() + rect.get_height() / 2,\"%.1f%%\"% rect.get_width(), weight='bold' )"
      ],
      "execution_count": null,
      "outputs": []
    },
    {
      "metadata": {
        "trusted": true,
        "id": "H2fAy6eDTUkv"
      },
      "cell_type": "code",
      "source": [
        "meta_cols"
      ],
      "execution_count": null,
      "outputs": []
    },
    {
      "metadata": {
        "id": "rowhL8CnTUkv"
      },
      "cell_type": "markdown",
      "source": [
        "### Per Superclass Age Distribution"
      ]
    },
    {
      "metadata": {
        "_kg_hide-input": true,
        "trusted": true,
        "id": "11r2Om_TTUkv"
      },
      "cell_type": "code",
      "source": [
        "fig, ax = plt.subplots(figsize=(10,6))\n",
        "plt.title('Age Distributions of Different Superclass')\n",
        "\n",
        "for superclass in superclass_cols:\n",
        "    data = y_all.loc[y_all[superclass] == 1]['age']\n",
        "    sns.distplot(data, label=superclass)\n",
        "\n",
        "\n",
        "plt.legend(loc='upper left')\n",
        "plt.show()"
      ],
      "execution_count": null,
      "outputs": []
    },
    {
      "metadata": {
        "id": "5_E-c0kHTUkv"
      },
      "cell_type": "markdown",
      "source": [
        "### Per Superclass Height Distribution"
      ]
    },
    {
      "metadata": {
        "_kg_hide-input": true,
        "trusted": true,
        "id": "O4hCS_8ETUkv"
      },
      "cell_type": "code",
      "source": [
        "fig, ax = plt.subplots(figsize=(10,6))\n",
        "plt.title('Height Distributions of Different Superclass')\n",
        "\n",
        "for superclass in superclass_cols:\n",
        "    data = y_all.loc[y_all[superclass] == 1][['height']]\n",
        "    sns.distplot(data, label=superclass)\n",
        "\n",
        "plt.legend(labels=superclass_cols, loc='upper left')\n",
        "plt.show()"
      ],
      "execution_count": null,
      "outputs": []
    },
    {
      "metadata": {
        "id": "wzuNpLbyTUkv"
      },
      "cell_type": "markdown",
      "source": [
        "### Per Superclass Weight Distribution"
      ]
    },
    {
      "metadata": {
        "_kg_hide-input": true,
        "trusted": true,
        "id": "GD18h-jnTUkv"
      },
      "cell_type": "code",
      "source": [
        "fig, ax = plt.subplots(figsize=(10,6))\n",
        "plt.title('Height Distributions of Different Superclass')\n",
        "\n",
        "for superclass in superclass_cols:\n",
        "    data = y_all.loc[y_all[superclass] == 1][['weight']]\n",
        "    sns.distplot(data, label=superclass)\n",
        "\n",
        "plt.legend(labels=superclass_cols, loc='upper left')\n",
        "plt.show()"
      ],
      "execution_count": null,
      "outputs": []
    },
    {
      "metadata": {
        "id": "1ttNs-28TUkv"
      },
      "cell_type": "markdown",
      "source": [
        "### Per Sex Superclass Distribution"
      ]
    },
    {
      "metadata": {
        "_kg_hide-input": true,
        "trusted": true,
        "id": "CWGkvgQCTUkv"
      },
      "cell_type": "code",
      "source": [
        "sns.set_style(\"whitegrid\")\n",
        "bar,ax = plt.subplots(figsize=(10,6))\n",
        "\n",
        "ax.set_title(\"Diagnositic Superclass Distribution of Different Sex\", fontsize=20)\n",
        "\n",
        "all_index, all_count, all_values = [], [], []\n",
        "for sex in y_all.sex.unique():\n",
        "    vc = y_all.loc[y_all.sex == sex][superclass_cols].sum(axis=0)\n",
        "    all_index += list(vc.index)\n",
        "    all_count += list(vc.values/y_all.shape[0]*100.)\n",
        "    all_values += [sex]*len(vc)\n",
        "    #print(all_sex)\n",
        "\n",
        "df = pd.DataFrame()\n",
        "df['diagnositic superclass'] = all_index\n",
        "df['percentage over all samples'] = all_count\n",
        "df['sex'] = all_values\n",
        "\n",
        "ax = sns.barplot(data=df, x=\"percentage over all samples\", y=\"diagnositic superclass\", hue=\"sex\",ci=None, orient='h')\n",
        "for rect in ax.patches:\n",
        "    ax.text (rect.get_width(), rect.get_y() + rect.get_height() / 2,\"%.1f%%\"% rect.get_width(), weight='bold')"
      ],
      "execution_count": null,
      "outputs": []
    },
    {
      "metadata": {
        "id": "cU2vDpddTUkv"
      },
      "cell_type": "markdown",
      "source": [
        "### Per Nurse Superclass Distribution"
      ]
    },
    {
      "metadata": {
        "_kg_hide-input": true,
        "trusted": true,
        "id": "lzbN92hKTUky"
      },
      "cell_type": "code",
      "source": [
        "sns.set_style(\"whitegrid\")\n",
        "bar,ax = plt.subplots(figsize=(10,20))\n",
        "\n",
        "ax.set_title(\"Diagnositic Superclass Distribution of Different Nurse\", fontsize=20)\n",
        "\n",
        "all_index, all_count, all_values = [], [], []\n",
        "for nurse in y_all.nurse.unique():\n",
        "    vc = y_all.loc[y_all.nurse == nurse][superclass_cols].sum(axis=0)\n",
        "    all_index += list(vc.index)\n",
        "    all_count += list(vc.values/y_all.shape[0]*100.)\n",
        "    all_values += [nurse]*len(vc)\n",
        "    #print(all_sex)\n",
        "\n",
        "df = pd.DataFrame()\n",
        "df['diagnositic superclass'] = all_index\n",
        "df['percentage over all samples'] = all_count\n",
        "df['nurse'] = all_values\n",
        "\n",
        "ax = sns.barplot(data=df, x=\"percentage over all samples\", y=\"diagnositic superclass\", hue=\"nurse\",ci=None, orient='h')\n",
        "for rect in ax.patches:\n",
        "    ax.text (rect.get_width(), rect.get_y() + rect.get_height() / 2,\"%.1f%%\"% rect.get_width(), weight='bold')"
      ],
      "execution_count": null,
      "outputs": []
    },
    {
      "metadata": {
        "id": "nGw_n0RzTUky"
      },
      "cell_type": "markdown",
      "source": [
        "### Per Site Superclass Distribution"
      ]
    },
    {
      "metadata": {
        "_kg_hide-input": true,
        "trusted": true,
        "id": "Ng-CH1PrTUky"
      },
      "cell_type": "code",
      "source": [
        "sns.set_style(\"whitegrid\")\n",
        "bar,ax = plt.subplots(figsize=(10,50))\n",
        "\n",
        "ax.set_title(\"Diagnositic Superclass Distribution of Different Site\", fontsize=20)\n",
        "\n",
        "all_index, all_count, all_values = [], [], []\n",
        "for site in y_all.site.unique():\n",
        "    vc = y_all.loc[y_all.site == site][superclass_cols].sum(axis=0)\n",
        "    all_index += list(vc.index)\n",
        "    all_count += list(vc.values/y_all.shape[0]*100.)\n",
        "    all_values += [site]*len(vc)\n",
        "    #print(all_sex)\n",
        "\n",
        "df = pd.DataFrame()\n",
        "df['diagnositic superclass'] = all_index\n",
        "df['percentage over all samples'] = all_count\n",
        "df['site'] = all_values\n",
        "\n",
        "ax = sns.barplot(data=df, x=\"percentage over all samples\", y=\"diagnositic superclass\", hue=\"site\",ci=None, orient='h')\n",
        "for rect in ax.patches:\n",
        "    ax.text (rect.get_width(), rect.get_y() + rect.get_height() / 2,\"%.2f%%\"% rect.get_width(), weight='bold')"
      ],
      "execution_count": null,
      "outputs": []
    },
    {
      "metadata": {
        "id": "_MrOZdGWTUkz"
      },
      "cell_type": "markdown",
      "source": [
        "### Per Device Superclass Distribution"
      ]
    },
    {
      "metadata": {
        "_kg_hide-input": true,
        "trusted": true,
        "id": "lV9HkNFbTUkz"
      },
      "cell_type": "code",
      "source": [
        "sns.set_style(\"whitegrid\")\n",
        "bar,ax = plt.subplots(figsize=(10,20))\n",
        "\n",
        "ax.set_title(\"Diagnositic Superclass Distribution of Different Device\", fontsize=20)\n",
        "\n",
        "all_index, all_count, all_values = [], [], []\n",
        "for device in y_all.device.unique():\n",
        "    vc = y_all.loc[y_all.device == device][superclass_cols].sum(axis=0)\n",
        "    all_index += list(vc.index)\n",
        "    all_count += list(vc.values/y_all.shape[0]*100.)\n",
        "    all_values += [device]*len(vc)\n",
        "    #print(all_sex)\n",
        "\n",
        "df = pd.DataFrame()\n",
        "df['diagnositic superclass'] = all_index\n",
        "df['percentage over all samples'] = all_count\n",
        "df['device'] = all_values\n",
        "\n",
        "ax = sns.barplot(data=df, x=\"percentage over all samples\", y=\"diagnositic superclass\", hue=\"device\",ci=None, orient='h')\n",
        "for rect in ax.patches:\n",
        "    ax.text (rect.get_width(), rect.get_y() + rect.get_height() / 2,\"%.2f%%\"% rect.get_width(), weight='bold')"
      ],
      "execution_count": null,
      "outputs": []
    },
    {
      "metadata": {
        "id": "YVX8YnCGTUkz"
      },
      "cell_type": "markdown",
      "source": [
        "### Per Superclass ECG Examples"
      ]
    },
    {
      "metadata": {
        "trusted": true,
        "id": "qh_3ZZISTUkz"
      },
      "cell_type": "code",
      "source": [
        "sample_num = 5\n",
        "\n",
        "for superclass in superclass_cols:\n",
        "    filt = y_all[superclass] == 1\n",
        "    y_selected = y_all.loc[filt]\n",
        "    x_selected = x_all[filt]\n",
        "\n",
        "    for i in range(sample_num):\n",
        "        y_ = y_selected.iloc[i]\n",
        "        x_ = x_selected[i]\n",
        "\n",
        "        #display(y_)\n",
        "        #print(y_.shape, x_.shape); assert False\n",
        "        bar, axes = plt.subplots(x_.shape[1], 1, figsize=(10,10))\n",
        "        title = \"Superclass = {}, Age = {}, Height = {}, Weight = {}, Sex = {}, Nurse = {}, Site = {}, Device = {}\".format(superclass,\n",
        "                                                                                                                           y_['age'], y_['height'], y_['weight'],\n",
        "                                                                                                                           y_['sex'], y_['nurse'], y_['site'], y_['device'],)\n",
        "        axes[0].set_title(title, fontsize=15)\n",
        "\n",
        "        for c in np.arange(x_.shape[1]):\n",
        "            sns.lineplot(x=np.arange(x_.shape[0]), y=x_[:, c], ax=axes[c])\n",
        "\n",
        "        plt.tight_layout()\n",
        "        plt.show()\n",
        "        #assert False"
      ],
      "execution_count": null,
      "outputs": []
    },
    {
      "metadata": {
        "id": "rgRjbCUATUkz"
      },
      "cell_type": "markdown",
      "source": [
        "# Train-Valid-Test Set Splitting"
      ]
    },
    {
      "metadata": {
        "id": "ReAzw_fKTUkz"
      },
      "cell_type": "markdown",
      "source": [
        "According to the source of the [dataset](https://physionet.org/content/ptb-xl/1.0.1/), there are recommended ***stratified 10-folds***, where the ***same patients are kept within the same folds***. Moreover, ***9th fold and 10th are of higher quality, which are recommeded to be used as validation set and test set***.\n",
        "\n",
        "\n",
        "> 5. Cross-validation Folds: recommended 10-fold train-test splits (strat_fold) obtained via stratified sampling while respecting patient assignments, i.e. all records of a particular patient were assigned to the same fold. Records in fold 9 and 10 underwent at least one human evaluation and are therefore of a particularly high label quality. We therefore propose to use folds 1-8 as training set, fold 9 as validation set and fold 10 as test set.\n",
        "\n",
        "Here, I will split compile fold 1-8 as train sets, fold 9 as validation set, and fold 10 as test set."
      ]
    },
    {
      "metadata": {
        "id": "0bkJ-MdnTUkz"
      },
      "cell_type": "markdown",
      "source": [
        "### Train"
      ]
    },
    {
      "metadata": {
        "trusted": true,
        "id": "GWe0THcuTUkz"
      },
      "cell_type": "code",
      "source": [
        "x_train, y_train = get_data_by_folds(np.arange(1, 9), X, Y, update_cols, meta_cols)\n",
        "print('data shape', x_train.shape)\n",
        "y_train"
      ],
      "execution_count": null,
      "outputs": []
    },
    {
      "metadata": {
        "id": "9cv6JYAkTUkz"
      },
      "cell_type": "markdown",
      "source": [
        "### Valid"
      ]
    },
    {
      "metadata": {
        "trusted": true,
        "id": "dlN704gNTUkz"
      },
      "cell_type": "code",
      "source": [
        "x_valid, y_valid = get_data_by_folds([9], X, Y, update_cols, meta_cols)\n",
        "print('data shape', x_valid.shape)\n",
        "y_valid"
      ],
      "execution_count": null,
      "outputs": []
    },
    {
      "metadata": {
        "id": "trmflZ1dTUkz"
      },
      "cell_type": "markdown",
      "source": [
        "### Test"
      ]
    },
    {
      "metadata": {
        "trusted": true,
        "id": "xFX6BNmOTUkz"
      },
      "cell_type": "code",
      "source": [
        "x_test, y_test = get_data_by_folds([10], X, Y, update_cols, meta_cols)\n",
        "print('data shape', x_test.shape)\n",
        "y_test"
      ],
      "execution_count": null,
      "outputs": []
    },
    {
      "metadata": {
        "trusted": true,
        "id": "usZZY8XbTUkz"
      },
      "cell_type": "code",
      "source": [
        "id_cols = ['ecg_id']\n",
        "channel_cols = ['channel-{}'.format(i) for i in range(12)]\n",
        "\n",
        "y_train.to_csv('train_meta.csv', index=True)\n",
        "y_train_signal = pd.DataFrame(columns=id_cols+channel_cols, index=np.arange(y_train.shape[0]*1000), dtype=np.float32)\n",
        "\n",
        "ecg_ids = []\n",
        "signals = []\n",
        "for i, ecg_id in enumerate(y_train.index.values):\n",
        "    y_train_signal.loc[i*1000:(i+1)*1000-1, 'ecg_id'] = [ecg_id]*1000\n",
        "    y_train_signal.loc[i*1000:(i+1)*1000-1, channel_cols] = x_train[i,:,:]\n",
        "\n",
        "y_train_signal['ecg_id'] = y_train_signal['ecg_id'].astype(np.int)\n",
        "y_train_signal.to_csv('train_signal.csv', index=False)\n",
        "\n",
        "display(y_train)\n",
        "display(y_train_signal)"
      ],
      "execution_count": null,
      "outputs": []
    },
    {
      "metadata": {
        "trusted": true,
        "id": "ePyzTzSFTUkz"
      },
      "cell_type": "code",
      "source": [
        "y_valid.to_csv('valid_meta.csv', index=True)\n",
        "y_valid_signal = pd.DataFrame(columns=id_cols+channel_cols, index=np.arange(y_valid.shape[0]*1000), dtype=np.float32)\n",
        "\n",
        "ecg_ids = []\n",
        "signals = []\n",
        "for i, ecg_id in enumerate(y_valid.index.values):\n",
        "    y_valid_signal.loc[i*1000:(i+1)*1000-1, 'ecg_id'] = [ecg_id]*1000\n",
        "    y_valid_signal.loc[i*1000:(i+1)*1000-1, channel_cols] = x_valid[i,:,:]\n",
        "\n",
        "y_valid_signal['ecg_id'] = y_valid_signal['ecg_id'].astype(np.int)\n",
        "y_valid_signal.to_csv('valid_signal.csv', index=False)\n",
        "\n",
        "display(y_valid)\n",
        "display(y_valid_signal)"
      ],
      "execution_count": null,
      "outputs": []
    },
    {
      "metadata": {
        "trusted": true,
        "id": "btK2xTpgTUkz"
      },
      "cell_type": "code",
      "source": [
        "y_test.to_csv('test_meta.csv', index=True)\n",
        "y_test_signal = pd.DataFrame(columns=id_cols+channel_cols, index=np.arange(y_test.shape[0]*1000), dtype=np.float32)\n",
        "\n",
        "ecg_ids = []\n",
        "signals = []\n",
        "for i, ecg_id in enumerate(y_test.index.values):\n",
        "    y_test_signal.loc[i*1000:(i+1)*1000-1, 'ecg_id'] = [ecg_id]*1000\n",
        "    y_test_signal.loc[i*1000:(i+1)*1000-1, channel_cols] = x_test[i,:,:]\n",
        "\n",
        "y_test_signal['ecg_id'] = y_test_signal['ecg_id'].astype(np.int)\n",
        "y_test_signal.to_csv('test_signal.csv', index=False)\n",
        "\n",
        "display(y_test)\n",
        "display(y_test_signal)"
      ],
      "execution_count": null,
      "outputs": []
    },
    {
      "metadata": {
        "id": "S2i_yILjTUkz"
      },
      "cell_type": "markdown",
      "source": [
        "### Note:\n",
        "* x_train, x_valid, x_test: 12-lead ECG signals for train, valid, and test set.\n",
        "* y_train, y_valid, y_test: fold number, ecg id, possible feature and possible target columns for modeling.\n",
        "* Columns that **should be skipped** for modeling:\n",
        "    * **strat_fold**: kept to be used cross validation within train set\n",
        "    * **ecg id**: the id for the ecg signal in the raw dataset, kept as a reference\n",
        "* Possibly Feature columns aside the heart beat signal: ['age', 'sex', 'height', 'weight', 'nurse', 'site', 'device']\n",
        "* Possibly Target columns: All superclass and subclass columns."
      ]
    },
    {
      "metadata": {
        "id": "tstnHVbaTUkz"
      },
      "cell_type": "markdown",
      "source": [
        "# Reference\n",
        "* [Paper: Wagner, P., Strodthoff, N., Bousseljot, R.-D., Kreiseler, D., Lunze, F.I., Samek, W., Schaeffter, T. (2020), PTB-XL: A Large Publicly Available ECG Dataset. Scientific Data. https://doi.org/10.1038/s41597-020-0495-6](https://www.nature.com/articles/s41597-020-0495-6)"
      ]
    }
  ],
  "metadata": {
    "kernelspec": {
      "language": "python",
      "display_name": "Python 3",
      "name": "python3"
    },
    "language_info": {
      "pygments_lexer": "ipython3",
      "nbconvert_exporter": "python",
      "version": "3.6.4",
      "file_extension": ".py",
      "codemirror_mode": {
        "name": "ipython",
        "version": 3
      },
      "name": "python",
      "mimetype": "text/x-python"
    },
    "colab": {
      "name": "PTB XL Dataset Wrangling",
      "provenance": []
    }
  },
  "nbformat": 4,
  "nbformat_minor": 0
}